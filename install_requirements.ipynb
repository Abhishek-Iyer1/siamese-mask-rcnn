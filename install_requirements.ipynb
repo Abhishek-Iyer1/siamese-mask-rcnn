{
 "cells": [
  {
   "cell_type": "code",
   "execution_count": 1,
   "metadata": {},
   "outputs": [
    {
     "name": "stdout",
     "output_type": "stream",
     "text": [
      "\u001b[33mThe directory '/gpfs01/bethge/home/cmichaelis/.cache/pip/http' or its parent directory is not owned by the current user and the cache has been disabled. Please check the permissions and owner of that directory. If executing pip with sudo, you may want sudo's -H flag.\u001b[0m\n",
      "\u001b[33mThe directory '/gpfs01/bethge/home/cmichaelis/.cache/pip' or its parent directory is not owned by the current user and caching wheels has been disabled. check the permissions and owner of that directory. If executing pip with sudo, you may want sudo's -H flag.\u001b[0m\n",
      "Collecting cython\n",
      "  Downloading https://files.pythonhosted.org/packages/6f/79/d8e2cd00bea8156a995fb284ce7b6677c49eccd2d318f73e201a9ce560dc/Cython-0.28.3-cp36-cp36m-manylinux1_x86_64.whl (3.4MB)\n",
      "\u001b[K    100% |################################| 3.4MB 366kB/s eta 0:00:01    84% |###########################     | 2.9MB 7.4MB/s eta 0:00:01\n",
      "\u001b[?25hCollecting scikit_image==0.13.1\n",
      "  Downloading https://files.pythonhosted.org/packages/60/0e/75fbf63c3b7a14fdbfaf92ca77035c18e90963003031148211bf12441be7/scikit_image-0.13.1-cp36-cp36m-manylinux1_x86_64.whl (35.8MB)\n",
      "\u001b[K    100% |################################| 35.8MB 35kB/s  eta 0:00:01    37% |############                    | 13.6MB 9.3MB/s eta 0:00:03    83% |##########################      | 29.9MB 15.2MB/s eta 0:00:01    99% |############################### | 35.6MB 14.6MB/s eta 0:00:01\n",
      "\u001b[?25hCollecting keras\n",
      "  Downloading https://files.pythonhosted.org/packages/54/e8/eaff7a09349ae9bd40d3ebaf028b49f5e2392c771f294910f75bb608b241/Keras-2.1.6-py2.py3-none-any.whl (339kB)\n",
      "\u001b[K    100% |################################| 348kB 2.9MB/s eta 0:00:01\n",
      "\u001b[?25hCollecting h5py\n",
      "  Downloading https://files.pythonhosted.org/packages/8e/cb/726134109e7bd71d98d1fcc717ffe051767aac42ede0e7326fd1787e5d64/h5py-2.8.0-cp36-cp36m-manylinux1_x86_64.whl (2.8MB)\n",
      "\u001b[K    100% |################################| 2.8MB 455kB/s eta 0:00:01    20% |######                          | 563kB 15.5MB/s eta 0:00:01\n",
      "\u001b[?25hCollecting imgaug\n",
      "  Downloading https://files.pythonhosted.org/packages/d2/60/a06a48d85a7e9062f5870347a3e3e953da30b37928d43b380c949bca458a/imgaug-0.2.5.tar.gz (562kB)\n",
      "\u001b[K    100% |################################| 563kB 1.7MB/s eta 0:00:01\n",
      "\u001b[?25hCollecting opencv_python\n",
      "  Downloading https://files.pythonhosted.org/packages/7c/78/bc95e29057e80d1da71912426113e85f20752b1031193f51750322354937/opencv_python-3.4.1.15-cp36-cp36m-manylinux1_x86_64.whl (24.9MB)\n",
      "\u001b[K    100% |################################| 24.9MB 44kB/s  eta 0:00:01  3% |#                               | 880kB 12.8MB/s eta 0:00:02    54% |#################               | 13.5MB 15.6MB/s eta 0:00:01    61% |###################             | 15.3MB 14.0MB/s eta 0:00:01    72% |#######################         | 18.1MB 20.9MB/s eta 0:00:01\n",
      "\u001b[?25hCollecting networkx>=1.8 (from scikit_image==0.13.1)\n",
      "  Downloading https://files.pythonhosted.org/packages/11/42/f951cc6838a4dff6ce57211c4d7f8444809ccbe2134179950301e5c4c83c/networkx-2.1.zip (1.6MB)\n",
      "\u001b[K    100% |################################| 1.6MB 811kB/s eta 0:00:01\n",
      "\u001b[?25hRequirement already satisfied: six>=1.7.3 in /usr/local/lib/python3.6/dist-packages (from scikit_image==0.13.1)\n",
      "Collecting PyWavelets>=0.4.0 (from scikit_image==0.13.1)\n",
      "  Downloading https://files.pythonhosted.org/packages/32/c0/3646053c0ce297686da524bc968bff6017151a9089d16c33afe7d330a48b/PyWavelets-0.5.2-cp36-cp36m-manylinux1_x86_64.whl (5.7MB)\n",
      "\u001b[K    100% |################################| 5.7MB 230kB/s eta 0:00:01    57% |##################              | 3.3MB 16.5MB/s eta 0:00:01\n",
      "\u001b[?25hRequirement already satisfied: matplotlib>=1.3.1 in /usr/local/lib/python3.6/dist-packages (from scikit_image==0.13.1)\n",
      "Requirement already satisfied: scipy>=0.17.0 in /usr/local/lib/python3.6/dist-packages (from scikit_image==0.13.1)\n",
      "Requirement already satisfied: pillow>=2.1.0 in /usr/local/lib/python3.6/dist-packages (from scikit_image==0.13.1)\n",
      "Requirement already satisfied: pyyaml in /usr/local/lib/python3.6/dist-packages (from keras)\n",
      "Requirement already satisfied: numpy>=1.9.1 in /usr/local/lib/python3.6/dist-packages (from keras)\n",
      "Requirement already satisfied: decorator>=4.1.0 in /usr/local/lib/python3.6/dist-packages (from networkx>=1.8->scikit_image==0.13.1)\n",
      "Requirement already satisfied: cycler>=0.10 in /usr/local/lib/python3.6/dist-packages (from matplotlib>=1.3.1->scikit_image==0.13.1)\n",
      "Requirement already satisfied: pytz in /usr/local/lib/python3.6/dist-packages (from matplotlib>=1.3.1->scikit_image==0.13.1)\n",
      "Requirement already satisfied: python-dateutil>=2.1 in /usr/local/lib/python3.6/dist-packages (from matplotlib>=1.3.1->scikit_image==0.13.1)\n",
      "Requirement already satisfied: pyparsing!=2.0.4,!=2.1.2,!=2.1.6,>=2.0.1 in /usr/local/lib/python3.6/dist-packages (from matplotlib>=1.3.1->scikit_image==0.13.1)\n",
      "Installing collected packages: cython, networkx, PyWavelets, scikit-image, h5py, keras, imgaug, opencv-python\n",
      "  Running setup.py install for networkx ... \u001b[?25ldone\n",
      "\u001b[?25h  Running setup.py install for imgaug ... \u001b[?25ldone\n",
      "\u001b[?25hSuccessfully installed PyWavelets-0.5.2 cython-0.28.3 h5py-2.8.0 imgaug-0.2.5 keras-2.1.6 networkx-2.1 opencv-python-3.4.1.15 scikit-image-0.13.1\n",
      "\u001b[33mYou are using pip version 9.0.1, however version 10.0.1 is available.\n",
      "You should consider upgrading via the 'pip install --upgrade pip' command.\u001b[0m\n"
     ]
    }
   ],
   "source": [
    "! sudo pip install cython scikit_image==0.13.1 keras h5py imgaug opencv_python"
   ]
  },
  {
   "cell_type": "code",
   "execution_count": 2,
   "metadata": {},
   "outputs": [
    {
     "name": "stdout",
     "output_type": "stream",
     "text": [
      "# install pycocotools to the Python site-packages\n",
      "python3 setup.py build_ext install\n",
      "Compiling pycocotools/_mask.pyx because it depends on /usr/local/lib/python3.6/dist-packages/Cython/Includes/numpy/__init__.pxd.\n",
      "[1/1] Cythonizing pycocotools/_mask.pyx\n",
      "running build_ext\n",
      "building 'pycocotools._mask' extension\n",
      "creating build\n",
      "creating build/temp.linux-x86_64-3.6\n",
      "creating build/temp.linux-x86_64-3.6/pycocotools\n",
      "creating build/common\n",
      "x86_64-linux-gnu-gcc -pthread -DNDEBUG -g -fwrapv -O2 -Wall -Wstrict-prototypes -g -fstack-protector-strong -Wformat -Werror=format-security -Wdate-time -D_FORTIFY_SOURCE=2 -fPIC -I/usr/local/lib/python3.6/dist-packages/numpy/core/include -I../common -I/usr/include/python3.6m -c pycocotools/_mask.c -o build/temp.linux-x86_64-3.6/pycocotools/_mask.o -Wno-cpp -Wno-unused-function -std=c99\n",
      "x86_64-linux-gnu-gcc -pthread -DNDEBUG -g -fwrapv -O2 -Wall -Wstrict-prototypes -g -fstack-protector-strong -Wformat -Werror=format-security -Wdate-time -D_FORTIFY_SOURCE=2 -fPIC -I/usr/local/lib/python3.6/dist-packages/numpy/core/include -I../common -I/usr/include/python3.6m -c ../common/maskApi.c -o build/temp.linux-x86_64-3.6/../common/maskApi.o -Wno-cpp -Wno-unused-function -std=c99\n",
      "creating build/lib.linux-x86_64-3.6\n",
      "creating build/lib.linux-x86_64-3.6/pycocotools\n",
      "x86_64-linux-gnu-gcc -pthread -shared -Wl,-O1 -Wl,-Bsymbolic-functions -Wl,-Bsymbolic-functions -Wl,-z,relro -Wl,-Bsymbolic-functions -Wl,-z,relro -g -fstack-protector-strong -Wformat -Werror=format-security -Wdate-time -D_FORTIFY_SOURCE=2 build/temp.linux-x86_64-3.6/pycocotools/_mask.o build/temp.linux-x86_64-3.6/../common/maskApi.o -o build/lib.linux-x86_64-3.6/pycocotools/_mask.cpython-36m-x86_64-linux-gnu.so\n",
      "running install\n",
      "running build\n",
      "running build_py\n",
      "copying pycocotools/cocoeval.py -> build/lib.linux-x86_64-3.6/pycocotools\n",
      "copying pycocotools/mask.py -> build/lib.linux-x86_64-3.6/pycocotools\n",
      "copying pycocotools/coco.py -> build/lib.linux-x86_64-3.6/pycocotools\n",
      "copying pycocotools/__init__.py -> build/lib.linux-x86_64-3.6/pycocotools\n",
      "running install_lib\n",
      "creating /usr/local/lib/python3.6/dist-packages/pycocotools\n",
      "copying build/lib.linux-x86_64-3.6/pycocotools/cocoeval.py -> /usr/local/lib/python3.6/dist-packages/pycocotools\n",
      "copying build/lib.linux-x86_64-3.6/pycocotools/mask.py -> /usr/local/lib/python3.6/dist-packages/pycocotools\n",
      "copying build/lib.linux-x86_64-3.6/pycocotools/coco.py -> /usr/local/lib/python3.6/dist-packages/pycocotools\n",
      "copying build/lib.linux-x86_64-3.6/pycocotools/__init__.py -> /usr/local/lib/python3.6/dist-packages/pycocotools\n",
      "copying build/lib.linux-x86_64-3.6/pycocotools/_mask.cpython-36m-x86_64-linux-gnu.so -> /usr/local/lib/python3.6/dist-packages/pycocotools\n",
      "byte-compiling /usr/local/lib/python3.6/dist-packages/pycocotools/cocoeval.py to cocoeval.cpython-36.pyc\n",
      "byte-compiling /usr/local/lib/python3.6/dist-packages/pycocotools/mask.py to mask.cpython-36.pyc\n",
      "byte-compiling /usr/local/lib/python3.6/dist-packages/pycocotools/coco.py to coco.cpython-36.pyc\n",
      "byte-compiling /usr/local/lib/python3.6/dist-packages/pycocotools/__init__.py to __init__.cpython-36.pyc\n",
      "running install_egg_info\n",
      "Writing /usr/local/lib/python3.6/dist-packages/pycocotools-2.0.egg-info\n",
      "rm -rf build\n"
     ]
    }
   ],
   "source": [
    "! (cd /gpfs01/bethge/home/cmichaelis/datasets/cocoapi/PythonAPI/ && sudo make install)"
   ]
  }
 ],
 "metadata": {
  "kernelspec": {
   "display_name": "Python 3",
   "language": "python",
   "name": "python3"
  },
  "language_info": {
   "codemirror_mode": {
    "name": "ipython",
    "version": 3
   },
   "file_extension": ".py",
   "mimetype": "text/x-python",
   "name": "python",
   "nbconvert_exporter": "python",
   "pygments_lexer": "ipython3",
   "version": "3.6.3"
  },
  "varInspector": {
   "cols": {
    "lenName": 16,
    "lenType": 16,
    "lenVar": 40
   },
   "kernels_config": {
    "python": {
     "delete_cmd_postfix": "",
     "delete_cmd_prefix": "del ",
     "library": "var_list.py",
     "varRefreshCmd": "print(var_dic_list())"
    },
    "r": {
     "delete_cmd_postfix": ") ",
     "delete_cmd_prefix": "rm(",
     "library": "var_list.r",
     "varRefreshCmd": "cat(var_dic_list()) "
    }
   },
   "types_to_exclude": [
    "module",
    "function",
    "builtin_function_or_method",
    "instance",
    "_Feature"
   ],
   "window_display": false
  }
 },
 "nbformat": 4,
 "nbformat_minor": 2
}
