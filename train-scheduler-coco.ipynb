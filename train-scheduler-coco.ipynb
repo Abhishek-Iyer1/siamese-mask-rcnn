{
 "cells": [
  {
   "cell_type": "code",
   "execution_count": null,
   "metadata": {
    "scrolled": false
   },
   "outputs": [],
   "source": [
    "import matplotlib\n",
    "matplotlib.use('Agg')\n",
    "\n",
    "import tensorflow as tf\n",
    "tf.logging.set_verbosity(tf.logging.INFO)\n",
    "sess_config = tf.ConfigProto()\n",
    "\n",
    "import sys\n",
    "import os\n",
    "import glob\n",
    "\n",
    "ADE20K_DATA = '/gpfs01/bethge/data/ADE20K_2016_07_26'\n",
    "COCO_DATA = '/gpfs01/bethge/share/mscoco/COCO'\n",
    "PASCAL_VOC_DATA = '/gpfs01/bethge/data/PascalVOC'\n",
    "MASK_RCNN_MODEL_PATH = '/gpfs01/bethge/home/cmichaelis/projects/2018-03_Siamese_Mask_RCNN/siamese-mask-rcnn/Mask_RCNN/'\n",
    "SIAMESE_MASK_RCNN_PATH = '/gpfs01/bethge/home/cmichaelis/projects/2018-03_Siamese_Mask_RCNN/siamese-mask-rcnn/'\n",
    "\n",
    "if MASK_RCNN_MODEL_PATH not in sys.path:\n",
    "    sys.path.append(MASK_RCNN_MODEL_PATH)\n",
    "if SIAMESE_MASK_RCNN_PATH not in sys.path:\n",
    "    sys.path.append(SIAMESE_MASK_RCNN_PATH)\n",
    "    \n",
    "from samples.coco import coco\n",
    "from mrcnn import utils\n",
    "from mrcnn import model as modellib\n",
    "from mrcnn import visualize\n",
    "    \n",
    "import utils as siamese_utils\n",
    "import model as siamese_model\n",
    "import siamese_mrcnn_models as model_zoo\n",
    "    \n",
    "import time\n",
    "import datetime\n",
    "import random\n",
    "import numpy as np\n",
    "import skimage.io\n",
    "import imgaug\n",
    "import pickle\n",
    "\n",
    "# Root directory of the project\n",
    "ROOT_DIR = os.getcwd()\n",
    "\n",
    "# Directory to save logs and trained model\n",
    "MODEL_DIR = os.path.join(ROOT_DIR, \"logs\")"
   ]
  },
  {
   "cell_type": "code",
   "execution_count": null,
   "metadata": {},
   "outputs": [],
   "source": [
    "exp_dir = ROOT_DIR #os.path.join(ROOT_DIR,'coco_full')"
   ]
  },
  {
   "cell_type": "code",
   "execution_count": null,
   "metadata": {},
   "outputs": [],
   "source": [
    "coco_nopascal_classes = [8,10,11,12,13,14,21,22,23,24,25,26,27,28,29,30,31,32,33,34,35,36,37,38,39,41,42,43,44,45,46,47,48,49,50,51,52,53,54,55,56,60,62,64,65,66,67,68,69,70,71,72,73,74,75,76,77,78,79,80]\n",
    "coco_pascal_classes = np.array(range(1,81))[np.array([i not in coco_nopascal_classes for i in range(1,81)])]"
   ]
  },
  {
   "cell_type": "code",
   "execution_count": null,
   "metadata": {},
   "outputs": [],
   "source": [
    "class TrainConfig(coco.CocoConfig):\n",
    "    # Set batch size to 1 since we'll be running inference on\n",
    "    # one image at a time. Batch size = GPU_COUNT * IMAGES_PER_GPU\n",
    "    GPU_COUNT = 1\n",
    "    IMAGES_PER_GPU = 12\n",
    "    LEARNING_RATE = 0.001\n",
    "    NUM_CLASSES = 1 + 1\n",
    "    TARGET_MAX_DIM = 96\n",
    "    TARGET_MIN_DIM = 75\n",
    "    IMAGE_MIN_DIM = 400\n",
    "    IMAGE_MAX_DIM = 512\n",
    "    #IMAGE_RESIZE_MODE = 'none'\n",
    "    TARGET_SHAPE = np.array([TARGET_MAX_DIM, TARGET_MAX_DIM, 3])\n",
    "    TARGET_PADDING = True\n",
    "    MAX_TARGET_INSTANCES = 10\n",
    "    # Reduce model size for prototyping\n",
    "    BACKBONE = 'resnet50'\n",
    "    FPN_FEATUREMAPS = 128\n",
    "    RPN_ANCHOR_STRIDE = 2\n",
    "    RPN_TRAIN_ANCHORS_PER_IMAGE = 64\n",
    "    POST_NMS_ROIS_TRAINING = 250\n",
    "    POST_NMS_ROIS_INFERENCE = 250\n",
    "    TRAIN_ROIS_PER_IMAGE = 50\n",
    "    DETECTION_MAX_INSTANCES = 15\n",
    "    DETECTION_NMS_THRESHOLD = 0.5\n",
    "    MAX_GT_INSTANCES = 15\n",
    "    LOSS_WEIGHTS = {'rpn_class_loss': 2.0, \n",
    "                    'rpn_bbox_loss': 0.1, \n",
    "                    'mrcnn_class_loss': 2.0, \n",
    "                    'mrcnn_bbox_loss': 0.5, \n",
    "                    'mrcnn_mask_loss': 1.0}\n",
    "    NAME = \"coco\"\n",
    "    EXPERIMENT = \"full\"\n",
    "    # Imagenet checkpoint \n",
    "    PRETRAINING = 'imagenet-1k' # or 'imagenet-771'\n",
    "    if PRETRAINING == 'imagenet-1k':\n",
    "        IMAGENET_CHECKPOINT = '/gpfs01/bethge/home/cmichaelis/projects/2018-03_Siamese_Mask_RCNN/logs/imagenet20180511T1119/mask_rcnn_imagenet_0810.h5'\n",
    "    elif PRETRAINING == 'imagenet-771':\n",
    "        IMAGENET_CHECKPOINT = '/gpfs01/bethge/home/cmichaelis/projects/2018-03_Siamese_Mask_RCNN/logs/imagenet20180520T2051/mask_rcnn_imagenet_0784.h5'\n",
    "    else: \n",
    "        print(\"pretraining must be either 'imagenet-1k' or 'imagenet-771'\")\n",
    "        \n",
    "config = TrainConfig()\n",
    "config.display()"
   ]
  },
  {
   "cell_type": "code",
   "execution_count": null,
   "metadata": {},
   "outputs": [],
   "source": [
    "# Load COCO/train dataset\n",
    "coco_train = siamese_utils.IndexedCocoDataset()\n",
    "coco_train.set_active_classes(coco_nopascal_classes)\n",
    "coco_train.load_coco(COCO_DATA, \"train\", year=\"2017\")\n",
    "coco_train.prepare()\n",
    "coco_train.build_indices()\n",
    "coco_train.ACTIVE_CLASSES = np.array(range(1,81))\n",
    "\n",
    "# Load COCO/val dataset\n",
    "coco_val = siamese_utils.IndexedCocoDataset()\n",
    "coco_val.set_active_classes(coco_nopascal_classes)\n",
    "coco_val.load_coco(COCO_DATA, \"val\", year=\"2017\")\n",
    "coco_val.prepare()\n",
    "coco_val.build_indices()\n",
    "coco_val.ACTIVE_CLASSES = np.array(range(1,81))"
   ]
  },
  {
   "cell_type": "markdown",
   "metadata": {},
   "source": [
    "### Simple"
   ]
  },
  {
   "cell_type": "code",
   "execution_count": null,
   "metadata": {},
   "outputs": [],
   "source": [
    "class SimpleSiameseMaskRCNN(model_zoo.SimpleSiameseMaskRCNN):\n",
    "    \n",
    "    def set_log_dir(self, model_path=None):\n",
    "        \"\"\"Sets the model log directory and epoch counter.\n",
    "        model_path: If None, or a format different from what this code uses\n",
    "            then set a new log directory and start epochs from 0. Otherwise,\n",
    "            extract the log directory and the epoch counter from the file\n",
    "            name.\n",
    "        \"\"\"\n",
    "        # Set date and epoch counter as if starting a new model\n",
    "        self.epoch = 0\n",
    "        now = datetime.datetime.now()\n",
    "\n",
    "#         # If we have a model path with date and epochs use them\n",
    "#         if model_path:\n",
    "#             # Continue from we left of. Get epoch and date from the file name\n",
    "#             # A sample model path might look like:\n",
    "#             # /path/to/logs/coco20171029T2315/mask_rcnn_coco_0001.h5\n",
    "#             regex = r\".*/[\\w-]+(\\d{4})(\\d{2})(\\d{2})T(\\d{2})(\\d{2})/mask\\_rcnn\\_[\\w-]+(\\d{4})\\.h5\"\n",
    "#             m = re.match(regex, model_path)\n",
    "#             if m:\n",
    "#                 now = datetime.datetime(int(m.group(1)), int(m.group(2)), int(m.group(3)),\n",
    "#                                         int(m.group(4)), int(m.group(5)))\n",
    "#                 # Epoch number in file is 1-based, and in Keras code it's 0-based.\n",
    "#                 # So, adjust for that then increment by one to start from the next epoch\n",
    "#                 self.epoch = int(m.group(6)) - 1 + 1\n",
    "#                 print('Re-starting from epoch %d' % self.epoch)\n",
    "\n",
    "        # Directory for training logs\n",
    "        self.log_dir = os.path.join(self.model_dir, \n",
    "                                    \"{}_{}\".format(self.config.NAME.lower(), \n",
    "                                                   self.config.EXPERIMENT.lower()))\n",
    "\n",
    "        # Create log_dir if not exists\n",
    "        if not os.path.exists(self.log_dir):\n",
    "            os.makedirs(self.log_dir)\n",
    "\n",
    "        # Path to save after each epoch. Include placeholders that get filled by Keras.\n",
    "        self.checkpoint_path = os.path.join(self.log_dir, \"siamese_mrcnn_*epoch*.h5\")\n",
    "        self.checkpoint_path = self.checkpoint_path.replace(\"*epoch*\", \"{epoch:04d}\")"
   ]
  },
  {
   "cell_type": "code",
   "execution_count": null,
   "metadata": {},
   "outputs": [],
   "source": [
    "# Create model object in inference mode.\n",
    "model = SimpleSiameseMaskRCNN(mode=\"training\", model_dir=MODEL_DIR, config=config)"
   ]
  },
  {
   "cell_type": "code",
   "execution_count": null,
   "metadata": {},
   "outputs": [],
   "source": [
    "# Load weights trained on Imagenet\n",
    "try: \n",
    "    os.path.exists(os.path.join(model.log_dir, \"siamese_mrcnn_0001.h5\"))\n",
    "    list_of_files = glob.glob(os.path.join(model.log_dir,'*.h5')) # * means all if need specific format then *.csv\n",
    "    latest_file = max(list_of_files, key=os.path.getmtime)\n",
    "    epoch_index = int(latest_file[-7:-3])\n",
    "    print('loading', latest_file, '...')\n",
    "\n",
    "    # set layers trainable for resnet weight loading\n",
    "    if epoch_index <= 120:\n",
    "        model.set_trainable(\"(mrcnn\\_.*)|(rpn\\_.*)|(fpn\\_.*)\")\n",
    "    elif epoch_index <= 240:\n",
    "        model.set_trainable(\"(res4.*)|(bn4.*)|(res5.*)|(bn5.*)|(mrcnn\\_.*)|(rpn\\_.*)|(fpn\\_.*)\")          \n",
    "    elif epoch_index <= 480:\n",
    "        model.set_trainable(\"(res2.*)|(bn2.*)|(res3.*)|(bn3.*)|(res4.*)|(bn4.*)|(res5.*)|(bn5.*)|(mrcnn\\_.*)|(rpn\\_.*)|(fpn\\_.*)\")\n",
    "    else:\n",
    "        model.set_trainable(\".*\")\n",
    "    # load weights            \n",
    "    model.load_weights(latest_file, by_name=True)\n",
    "    model.epoch = epoch_index\n",
    "except:\n",
    "    print('initializing from imagenet weights ...')\n",
    "    model.load_weights(config.IMAGENET_CHECKPOINT, by_name=True)\n",
    "    model.set_log_dir()\n",
    "\n",
    "\n"
   ]
  },
  {
   "cell_type": "code",
   "execution_count": null,
   "metadata": {
    "scrolled": false
   },
   "outputs": [],
   "source": [
    "# file = open(os.path.join(exp_dir, \"started.txt\"),\"w\")\n",
    "# file.close()\n",
    "model.train(coco_train, coco_val, learning_rate=config.LEARNING_RATE, epochs=120, layers=\"heads\")\n",
    "model.train(coco_train, coco_val, learning_rate=config.LEARNING_RATE, epochs=240, layers=\"4+\")\n",
    "model.train(coco_train, coco_val, learning_rate=config.LEARNING_RATE, epochs=360, layers=\"2+\")\n",
    "model.train(coco_train, coco_val, learning_rate=config.LEARNING_RATE, epochs=480, layers=\"all\")\n",
    "model.train(coco_train, coco_val, learning_rate=config.LEARNING_RATE/10, epochs=510, layers=\"all\")\n",
    "model.train(coco_train, coco_val, learning_rate=config.LEARNING_RATE/100, epochs=540, layers=\"all\")\n",
    "file = open(os.path.join(exp_dir, \"finished.txt\"),\"w\")\n",
    "file.close()\n",
    "print(\"Done\")"
   ]
  }
 ],
 "metadata": {
  "kernelspec": {
   "display_name": "Python 3",
   "language": "python",
   "name": "python3"
  },
  "language_info": {
   "codemirror_mode": {
    "name": "ipython",
    "version": 3
   },
   "file_extension": ".py",
   "mimetype": "text/x-python",
   "name": "python",
   "nbconvert_exporter": "python",
   "pygments_lexer": "ipython3",
   "version": "3.6.3"
  },
  "varInspector": {
   "cols": {
    "lenName": 16,
    "lenType": 16,
    "lenVar": 40
   },
   "kernels_config": {
    "python": {
     "delete_cmd_postfix": "",
     "delete_cmd_prefix": "del ",
     "library": "var_list.py",
     "varRefreshCmd": "print(var_dic_list())"
    },
    "r": {
     "delete_cmd_postfix": ") ",
     "delete_cmd_prefix": "rm(",
     "library": "var_list.r",
     "varRefreshCmd": "cat(var_dic_list()) "
    }
   },
   "types_to_exclude": [
    "module",
    "function",
    "builtin_function_or_method",
    "instance",
    "_Feature"
   ],
   "window_display": false
  }
 },
 "nbformat": 4,
 "nbformat_minor": 2
}
