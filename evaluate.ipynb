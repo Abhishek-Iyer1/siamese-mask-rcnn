{
 "cells": [
  {
   "cell_type": "code",
   "execution_count": null,
   "metadata": {
    "scrolled": false
   },
   "outputs": [],
   "source": [
    "%load_ext autoreload\n",
    "%autoreload 2\n",
    "%matplotlib inline\n",
    "#%load_ext line_profiler\n",
    "\n",
    "import tensorflow as tf\n",
    "slim = tf.contrib.slim\n",
    "tf.logging.set_verbosity(tf.logging.INFO)\n",
    "sess_config = tf.ConfigProto()\n",
    "#config.gpu_options.allow_growth=True\n",
    "#config.gpu_options.per_process_gpu_memory_fraction=0.45\n",
    "\n",
    "import sys\n",
    "import os\n",
    "\n",
    "ADE20K_DATA = '/gpfs01/bethge/data/ADE20K_2016_07_26'\n",
    "COCO_DATA = '/gpfs01/bethge/share/mscoco/COCO'\n",
    "PASCAL_VOC_DATA = '/gpfs01/bethge/data/PascalVOC'\n",
    "MASK_RCNN_MODEL_PATH = 'Mask_RCNN/'\n",
    "SLIM_MODELS_PATH = '/gpfs01/bethge/home/aecker/lab/projects/tf-models/slim'\n",
    "TRANSFORMER_MODELS_PATH = '/gpfs01/bethge/home/cmichaelis/tf-models/transformer/'\n",
    "SIAMESE_MASK_RCNN_PATH = '/gpfs01/bethge/home/cmichaelis/projects/2018-03_Siamese_Mask_RCNN/siamese-mask-rcnn/'\n",
    "\n",
    "if MASK_RCNN_MODEL_PATH not in sys.path:\n",
    "    sys.path.append(MASK_RCNN_MODEL_PATH)\n",
    "if SIAMESE_MASK_RCNN_PATH not in sys.path:\n",
    "    sys.path.append(SIAMESE_MASK_RCNN_PATH)\n",
    "    \n",
    "from samples.coco import coco\n",
    "from mrcnn import utils\n",
    "from mrcnn import model as modellib\n",
    "from mrcnn import visualize\n",
    "    \n",
    "if SLIM_MODELS_PATH not in sys.path:\n",
    "    sys.path.append(SLIM_MODELS_PATH)\n",
    "if TRANSFORMER_MODELS_PATH not in sys.path:\n",
    "    sys.path.append(TRANSFORMER_MODELS_PATH)\n",
    "    \n",
    "import utils as siamese_utils\n",
    "import model as siamese_model\n",
    "import siamese_mrcnn_models as model_zoo\n",
    "    \n",
    "import time\n",
    "import random\n",
    "import numpy as np\n",
    "import skimage.io\n",
    "import imgaug\n",
    "import matplotlib.pyplot as plt\n",
    "plt.rcParams['figure.figsize'] = (12.0, 6.0)\n",
    "\n",
    "from spatial_transformer import transformer\n",
    "\n",
    "from IPython.core.display import display, HTML\n",
    "display(HTML(\"<style>.container { width:98% !important; }</style>\"))\n",
    "\n",
    "# Root directory of the project\n",
    "ROOT_DIR = os.getcwd()\n",
    "\n",
    "# Directory to save logs and trained model\n",
    "MODEL_DIR = os.path.join(ROOT_DIR, \"logs\")\n",
    "\n",
    "# Local path to trained weights file\n",
    "COCO_MODEL_PATH = os.path.join(ROOT_DIR, \"mask_rcnn_coco.h5\")"
   ]
  },
  {
   "cell_type": "code",
   "execution_count": null,
   "metadata": {},
   "outputs": [],
   "source": [
    "nopascal_classes = [8,10,11,12,13,14,21,22,23,24,25,26,27,28,29,30,31,32,33,34,35,36,37,38,39,41,42,43,44,45,46,47,48,49,50,51,52,53,54,55,56,60,62,64,65,66,67,68,69,70,71,72,73,74,75,76,77,78,79,80]"
   ]
  },
  {
   "cell_type": "code",
   "execution_count": null,
   "metadata": {},
   "outputs": [],
   "source": [
    "pascal_classes = np.array(range(1,81))[np.array([i not in nopascal_classes for i in range(1,81)])]"
   ]
  },
  {
   "cell_type": "code",
   "execution_count": null,
   "metadata": {},
   "outputs": [],
   "source": [
    "class InferenceConfig(coco.CocoConfig):\n",
    "    # Set batch size to 1 since we'll be running inference on\n",
    "    # one image at a time. Batch size = GPU_COUNT * IMAGES_PER_GPU\n",
    "    GPU_COUNT = 1\n",
    "    IMAGES_PER_GPU = 1 #6 #12\n",
    "    LEARNING_RATE = 0.001\n",
    "    NUM_CLASSES = 80 + 1\n",
    "    TARGET_MAX_DIM = 96\n",
    "    TARGET_MIN_DIM = 75\n",
    "    IMAGE_MIN_DIM = 400\n",
    "    IMAGE_MAX_DIM = 512\n",
    "    #IMAGE_RESIZE_MODE = 'none'\n",
    "    TARGET_SHAPE = np.array([TARGET_MAX_DIM, TARGET_MAX_DIM, 3])\n",
    "    TARGET_PADDING = True\n",
    "    MAX_TARGET_INSTANCES = 10\n",
    "    # Reduce model size for prototyping\n",
    "    BACKBONE = 'resnet50'\n",
    "    FPN_FEATUREMAPS = 128\n",
    "    RPN_ANCHOR_STRIDE = 2\n",
    "    RPN_TRAIN_ANCHORS_PER_IMAGE = 64\n",
    "    POST_NMS_ROIS_TRAINING = 250\n",
    "    POST_NMS_ROIS_INFERENCE = 250\n",
    "    TRAIN_ROIS_PER_IMAGE = 50\n",
    "    DETECTION_MAX_INSTANCES = 15\n",
    "    DETECTION_NMS_THRESHOLD = 0.5\n",
    "    MAX_GT_INSTANCES = 15\n",
    "    ACTIVE_CLASSES = np.array(range(1,81))\n",
    "\n",
    "config = InferenceConfig()\n",
    "config.display()"
   ]
  },
  {
   "cell_type": "code",
   "execution_count": null,
   "metadata": {},
   "outputs": [],
   "source": [
    "# Load COCO/val dataset\n",
    "val_dataset = siamese_utils.IndexedCocoDataset()\n",
    "val_dataset.load_coco(COCO_DATA, \"val\", year=\"2017\")\n",
    "val_dataset.prepare()\n",
    "val_dataset.build_indices()"
   ]
  },
  {
   "cell_type": "markdown",
   "metadata": {},
   "source": [
    "### Fancy 4"
   ]
  },
  {
   "cell_type": "code",
   "execution_count": null,
   "metadata": {
    "scrolled": false
   },
   "outputs": [],
   "source": [
    "# One-Shot vs Validation\n",
    "model_name = ['coco20180529T1829/mask_rcnn_coco_0369.h5']\n",
    "trainables = [\"(res2.*)|(bn2.*)|(res3.*)|(bn3.*)|(res4.*)|(bn4.*)|(res5.*)|(bn5.*)|(mrcnn\\_.*)|(rpn\\_.*)|(fpn\\_.*)\"]\n",
    "active_classes = [np.array(range(1,81))]\n",
    "\n",
    "for i in range(len(models)):\n",
    "    print(\"Run {}\".format(i+1))\n",
    "    print(\"\")\n",
    "    t = time.time()\n",
    "    print(\"initializing model...\")\n",
    "    # Create model object in inference mode.\n",
    "    config.ACTIVE_CLASSES = active_classes[i]\n",
    "    model = model_zoo.FancySiameseMaskRCNN(mode=\"inference\", model_dir=MODEL_DIR, config=config)\n",
    "    model.set_trainable(trainables[i], verbose=0)\n",
    "    # Load weights\n",
    "    model.load_weights('/gpfs01/bethge/home/cmichaelis/projects/2018-03_Siamese_Mask_RCNN/logs/' + model_name[i], by_name=True)\n",
    "    print(\"evaluating...\")\n",
    "    model.evaluate_dataset(val_dataset, max_images=1000)\n",
    "    print(\"\")\n",
    "    print(\"Fineshed after {:.0f}s\".format(time.time()-t))\n",
    "    print(\"\")\n",
    "    print(\"\")"
   ]
  },
  {
   "cell_type": "markdown",
   "metadata": {},
   "source": [
    "### Visualization"
   ]
  },
  {
   "cell_type": "code",
   "execution_count": null,
   "metadata": {},
   "outputs": [],
   "source": [
    "model_name = 'coco20180529T1829/mask_rcnn_coco_0369.h5'\n",
    "trainables = \"(res2.*)|(bn2.*)|(res3.*)|(bn3.*)|(res4.*)|(bn4.*)|(res5.*)|(bn5.*)|(mrcnn\\_.*)|(rpn\\_.*)|(fpn\\_.*)\""
   ]
  },
  {
   "cell_type": "code",
   "execution_count": null,
   "metadata": {},
   "outputs": [],
   "source": [
    "model = model_zoo.FancySiameseMaskRCNN(mode=\"inference\", model_dir=MODEL_DIR, config=config)\n",
    "model.set_trainable(trainables, verbose=0)\n",
    "# Load weights\n",
    "model.load_weights('/gpfs01/bethge/home/cmichaelis/projects/2018-03_Siamese_Mask_RCNN/logs/' + model_name, by_name=True)"
   ]
  },
  {
   "cell_type": "code",
   "execution_count": null,
   "metadata": {},
   "outputs": [],
   "source": [
    "IMAGE_DIR = '/gpfs01/bethge/home/cmichaelis/datasets/COCO/val2017/'\n",
    "\n",
    "# Load a random image from the images folder\n",
    "# file_names = next(os.walk(IMAGE_DIR))[2]\n",
    "# image = skimage.io.imread(os.path.join(IMAGE_DIR, random.choice(file_names)))\n",
    "coco_image_ids = [val_dataset.image_info[id][\"id\"] for id in val_dataset.image_ids]\n",
    "image_id = random.choice(range(len(coco_image_ids)))\n",
    "image = val_dataset.load_image(513)#2699)#4673)\n",
    "print(image_id)\n",
    "\n",
    "# Load target\n",
    "category = 1\n",
    "random_image_id = np.random.choice(val_dataset.category_image_index[category])    \n",
    "# target_image, _, target_class_ids, target_boxes, _ = \\\n",
    "#     modellib.load_image_gt(val_dataset, config, random_image_id, augmentation=False,\n",
    "#                   use_mini_mask=config.USE_MINI_MASK)\n",
    "\n",
    "# box_ind = np.random.choice(np.where(target_class_ids == category)[0])   \n",
    "# tb = target_boxes[box_ind,:]\n",
    "# target = target_image[tb[0]:tb[2],tb[1]:tb[3],:]\n",
    "target = siamese_utils.get_one_target(category, val_dataset, config)\n",
    "\n",
    "\n",
    "# Run detection\n",
    "results = model.detect([target], [image], verbose=1)\n",
    "r = results[0]\n",
    "siamese_utils.display_siamese_instances(target, image, r['rois'], r['masks'], r['class_ids'], r['scores'])"
   ]
  }
 ],
 "metadata": {
  "kernelspec": {
   "display_name": "Python 3",
   "language": "python",
   "name": "python3"
  },
  "language_info": {
   "codemirror_mode": {
    "name": "ipython",
    "version": 3
   },
   "file_extension": ".py",
   "mimetype": "text/x-python",
   "name": "python",
   "nbconvert_exporter": "python",
   "pygments_lexer": "ipython3",
   "version": "3.6.3"
  },
  "varInspector": {
   "cols": {
    "lenName": 16,
    "lenType": 16,
    "lenVar": 40
   },
   "kernels_config": {
    "python": {
     "delete_cmd_postfix": "",
     "delete_cmd_prefix": "del ",
     "library": "var_list.py",
     "varRefreshCmd": "print(var_dic_list())"
    },
    "r": {
     "delete_cmd_postfix": ") ",
     "delete_cmd_prefix": "rm(",
     "library": "var_list.r",
     "varRefreshCmd": "cat(var_dic_list()) "
    }
   },
   "types_to_exclude": [
    "module",
    "function",
    "builtin_function_or_method",
    "instance",
    "_Feature"
   ],
   "window_display": false
  }
 },
 "nbformat": 4,
 "nbformat_minor": 2
}
